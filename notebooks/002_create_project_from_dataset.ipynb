{
 "cells": [
  {
   "cell_type": "markdown",
   "id": "d3dfc49f-004a-4f73-89c0-19f64b48a3d2",
   "metadata": {},
   "source": [
    "# Creating a project from an existing dataset\n",
    "In this notebook, we will use the `geti-sdk` package to create a project from an existing dataset, and upload images and annotations to it."
   ]
  },
  {
   "cell_type": "markdown",
   "id": "b262f5c9-9ce6-415f-838d-aea36ddee487",
   "metadata": {},
   "source": [
    "### Setting up the connection to the platform\n",
    "First, we set up the connection to the server. This is done by instantiating a Geti object, with the hostname (or ip address) and authentication details for the server. As in notebook [001 create_project](001_create_project.ipynb), the server details are stored in the `.env` file and are loaded in the cell below. For details on how to create the `.env` file, please see the [readme](README.md)."
   ]
  },
  {
   "cell_type": "code",
   "execution_count": null,
   "id": "8269d231-cb5c-4591-b966-d0a00b9ef6f9",
   "metadata": {},
   "outputs": [],
   "source": [
    "from geti_sdk.utils import get_server_details_from_env\n",
    "\n",
    "geti_server_configuration = get_server_details_from_env()"
   ]
  },
  {
   "cell_type": "code",
   "execution_count": null,
   "id": "875581a5",
   "metadata": {
    "pycharm": {
     "name": "#%%\n"
    }
   },
   "outputs": [],
   "source": [
    "from geti_sdk import Geti\n",
    "\n",
    "geti = Geti(server_config=geti_server_configuration)"
   ]
  },
  {
   "cell_type": "markdown",
   "id": "b4c88de5-7719-424c-aede-83361646602a",
   "metadata": {},
   "source": [
    "### Getting the COCO dataset\n",
    "In the next cell, we get the path to the MS COCO dataset. \n",
    "\n",
    "If you already have the COCO dataset on your machine, please specify the `dataset_path` to point to the folder containing the dataset. \n",
    "\n",
    "If you do not have the dataset yet, the `get_coco_dataset` method will make an attempt to download the dataset. Even though it will only download the 2017 validation subset, this is still a ~1 Gb download so it may take some time, depending on your internet connection. \n",
    "\n",
    "Of course the data will only be downloaded once; if you have downloaded the dataset previously, the method should detect it and return the path to the data."
   ]
  },
  {
   "cell_type": "code",
   "execution_count": null,
   "id": "59176324-9c88-4110-a4be-0c99e194980a",
   "metadata": {},
   "outputs": [],
   "source": [
    "from geti_sdk.demos import get_coco_dataset\n",
    "\n",
    "COCO_PATH = get_coco_dataset(dataset_path=None)"
   ]
  },
  {
   "cell_type": "markdown",
   "id": "e738920b-0079-4499-a03f-fde417cda88f",
   "metadata": {},
   "source": [
    "### Reading the dataset\n",
    "Next, we need to load the COCO dataset using Datumaro. The `geti-sdk` package provides the `DatumAnnotationReader` class to do so. It can read datasets in all formats supported by Datumaro."
   ]
  },
  {
   "cell_type": "code",
   "execution_count": null,
   "id": "35c81a6b-7145-4707-b725-dba432efecf2",
   "metadata": {},
   "outputs": [],
   "source": [
    "from geti_sdk.annotation_readers import DatumAnnotationReader\n",
    "\n",
    "annotation_reader = DatumAnnotationReader(\n",
    "    base_data_folder=COCO_PATH, annotation_format=\"coco\"\n",
    ")"
   ]
  },
  {
   "cell_type": "markdown",
   "id": "b45c4222-80f4-4b45-bfed-2bc1d00a9f7c",
   "metadata": {},
   "source": [
    "### Selecting the labels\n",
    "The MS COCO dataset contains 80 different classes, and while we could create a project including all of them, for this demo we will select only a couple of them. This is done using the `filter_dataset` method of the annotation reader."
   ]
  },
  {
   "cell_type": "code",
   "execution_count": null,
   "id": "4977c7bf-93e8-4ac9-b745-a7d8ac2859c5",
   "metadata": {},
   "outputs": [],
   "source": [
    "annotation_reader.filter_dataset(labels=[\"dog\", \"cat\", \"horse\"], criterion=\"OR\")"
   ]
  },
  {
   "cell_type": "markdown",
   "id": "03b33444-4667-4e72-9ce8-71bc5f6b848a",
   "metadata": {},
   "source": [
    "### Creating the project\n",
    "Now that we have a selection of data we would like to upload, we get to create the project. The COCO dataset is best suited for detection or segmentation type projects. \n",
    "\n",
    "To create the project, we will be using a method `create_single_task_project_from_dataset` from the `Geti` instance that we set up previously. This will not only create the project, but also upload the media and annotations from our dataset. \n",
    "\n",
    "The project name and type can be set via their respective input parameters, `project_name` and `project_type`. Have a look at notebook [001 create project](./001_create_project.ipynb) for further details about which values are supported for the `project_type` parameter.\n",
    "\n",
    "The number of images that is uploaded and annotated can be controlled as well. Finally, if `enable_auto_train` is set to `True` the project will start training right after all annotations have been uploaded (provided that sufficient images have been annotated to trigger auto-training)."
   ]
  },
  {
   "cell_type": "code",
   "execution_count": null,
   "id": "349abb0f-14e1-40a4-877c-636675b23411",
   "metadata": {},
   "outputs": [],
   "source": [
    "PROJECT_NAME = \"COCO animal detection demo\"\n",
    "PROJECT_TYPE = \"detection\""
   ]
  },
  {
   "cell_type": "code",
   "execution_count": null,
   "id": "d5a26174-effe-4600-b0c9-a177ff8ff01a",
   "metadata": {},
   "outputs": [],
   "source": [
    "project = geti.create_single_task_project_from_dataset(\n",
    "    project_name=PROJECT_NAME,\n",
    "    project_type=PROJECT_TYPE,\n",
    "    path_to_images=COCO_PATH,\n",
    "    annotation_reader=annotation_reader,\n",
    "    number_of_images_to_upload=100,\n",
    "    number_of_images_to_annotate=90,\n",
    "    enable_auto_train=True,\n",
    ")"
   ]
  },
  {
   "cell_type": "markdown",
   "id": "44fb7dff-9e0b-4a3f-93df-569df8e453e8",
   "metadata": {},
   "source": [
    "That's it! A new project named `COCO animal detection demo` should now appear in your workspace. To check its properties, we can print a summary of it in the cell below."
   ]
  },
  {
   "cell_type": "code",
   "execution_count": null,
   "id": "7cd495e8-1c78-480f-9445-9082a4fa8429",
   "metadata": {},
   "outputs": [],
   "source": [
    "print(project.summary)"
   ]
  },
  {
   "cell_type": "markdown",
   "id": "56fc3b9d-0325-46c2-8912-906882c4a337",
   "metadata": {},
   "source": [
    "As you might have noticed, there is one additional label in the project, the `No Object` label. This is added by the system automatically to represent the absence of any 'horse', 'cat' or 'dog' in an image."
   ]
  }
 ],
 "metadata": {
  "kernelspec": {
   "display_name": "Python 3 (ipykernel)",
   "language": "python",
   "name": "python3"
  },
  "language_info": {
   "codemirror_mode": {
    "name": "ipython",
    "version": 3
   },
   "file_extension": ".py",
   "mimetype": "text/x-python",
   "name": "python",
   "nbconvert_exporter": "python",
   "pygments_lexer": "ipython3",
   "version": "3.9.19"
  }
 },
 "nbformat": 4,
 "nbformat_minor": 5
}
