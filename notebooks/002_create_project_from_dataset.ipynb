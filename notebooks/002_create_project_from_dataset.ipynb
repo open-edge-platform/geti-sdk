{
 "cells": [
  {
   "cell_type": "markdown",
   "id": "d3dfc49f-004a-4f73-89c0-19f64b48a3d2",
   "metadata": {},
   "source": [
    "# Creating a project from an existing dataset\n",
    "This notebook shows how the `geti-sdk` package allows to create a project from an existing dataset, importing all the images and annotations contained in it."
   ]
  },
  {
   "cell_type": "markdown",
   "id": "c2566bbb3543c4a2",
   "metadata": {},
   "source": [
    "### Set up the connection to the platform\n",
    "First, set up the connection to the server. This is done by instantiating a Geti object, with the hostname (or ip address) and authentication details for the server. As in notebook [001 create_project](001_create_project.ipynb), the server details are stored in the `.env` file and are loaded in the cell below. For details on how to create the `.env` file, please see the [readme](README.md)."
   ]
  },
  {
   "cell_type": "code",
   "execution_count": null,
   "id": "2b58664db1a82ae4",
   "metadata": {},
   "outputs": [],
   "source": [
    "from geti_sdk import Geti\n",
    "from geti_sdk.utils import get_server_details_from_env\n",
    "\n",
    "geti_server_configuration = get_server_details_from_env()\n",
    "geti = Geti(server_config=geti_server_configuration)"
   ]
  },
  {
   "cell_type": "markdown",
   "id": "485927c9e134e0c",
   "metadata": {},
   "source": [
    "## Import from a supported dataset format\n",
    "\n",
    "The Intel Geti SDK package provides a class `GetiIE` to easily import datasets from one of the formats supported by Geti, including:\n",
    "- Datumaro\n",
    "- COCO\n",
    "- VOC\n",
    "- YOLO\n",
    "\n",
    "For more details about the Geti dataset import capabilities, refer to its [documentation](https://docs.geti.intel.com/docs/user-guide/geti-fundamentals/project-management/dataset-export-import)."
   ]
  },
  {
   "cell_type": "markdown",
   "id": "a84521e5faaa8657",
   "metadata": {},
   "source": [
    "### Get the dataset\n",
    "\n",
    "Prepare your dataset by ensuring it is a zip archive in one of the formats mentioned above, accessible on the filesystem.\n",
    "This example uses a small dataset downloaded from the Internet. It contains some annotated images of cats and dogs, which can be used to create a _classification_ project."
   ]
  },
  {
   "cell_type": "code",
   "execution_count": null,
   "id": "ee7340b810cf2a3b",
   "metadata": {},
   "outputs": [],
   "source": [
    "import os\n",
    "\n",
    "from geti_sdk.demos.data_helpers.download_helpers import download_file\n",
    "\n",
    "# Replace the URL below with the path to your dataset archive\n",
    "# To use a local dataset, set `dataset_archive` directly to the file path of your dataset, e.g., \"/home/duck/dataset.zip\"\n",
    "dataset_archive_url = \"https://storage.geti.intel.com/test-data/geti-sdk/datasets/cats-dogs-classification-datumaro.zip\"\n",
    "dataset_archive_folder = \"/tmp\"\n",
    "dataset_archive = os.path.join(dataset_archive_folder, os.path.basename(dataset_archive_url))\n",
    "\n",
    "if not os.path.exists(dataset_archive):\n",
    "    download_file(url=dataset_archive_url, target_folder=dataset_archive_folder)"
   ]
  },
  {
   "cell_type": "markdown",
   "id": "818cfb3103275fa0",
   "metadata": {},
   "source": [
    "### Import the dataset\n",
    "\n",
    "Now that the dataset archive is ready, it's time to import it.\n",
    "This can be done with the `import_dataset_as_new_project` method of `GetiIE`, which also allows to assign a custom name to the project.\n",
    "The choice of `project_type` depends of course on the type of annotations stored in the archive."
   ]
  },
  {
   "cell_type": "code",
   "execution_count": null,
   "id": "b43a92a05050239",
   "metadata": {},
   "outputs": [],
   "source": [
    "from geti_sdk.import_export import GetiIE\n",
    "from geti_sdk.rest_clients import ProjectClient\n",
    "\n",
    "project_client = ProjectClient(session=geti.session, workspace_id=geti.workspace_id)\n",
    "geti_ie = GetiIE(session=geti.session, workspace_id=geti.workspace_id, project_client=project_client)\n",
    "\n",
    "project = geti_ie.import_dataset_as_new_project(\n",
    "    filepath=dataset_archive,\n",
    "    project_name=\"Cats & Dogs\",\n",
    "    project_type=\"classification\",\n",
    ")"
   ]
  },
  {
   "cell_type": "markdown",
   "id": "7a4f4fb7f9af63f5",
   "metadata": {},
   "source": [
    "That's it! A new project named `Cats & Dogs` should now appear in your workspace.\n",
    "To check its properties, can print a summary using the cell below.\n",
    "You can expect to find the same labels (classes) present in the dataset archive; for certain project types like `detection`, you may also find a label called `No object` to represent the absence of any object in the image.\n"
   ]
  },
  {
   "cell_type": "code",
   "execution_count": null,
   "id": "a9d74ef1b67a224e",
   "metadata": {},
   "outputs": [],
   "source": [
    "print(project.summary)"
   ]
  },
  {
   "cell_type": "markdown",
   "id": "56fc3b9d-0325-46c2-8912-906882c4a337",
   "metadata": {},
   "source": [
    "## Import from a format not natively supported\n",
    "\n",
    "If your dataset does not comply with one of the supported formats, there are several ways how to go around this.\n",
    "- You can try to convert your dataset to one of the supported formats and come back to the automated approach. This can be done by writing a script that will do the conversion. The drawback of this approach is that you can end up keeping multiple copies of the same dataset.\n",
    "- You can implement an [AnnotationReader](https://openvinotoolkit.github.io/geti-sdk/geti_sdk.annotation_readers.html#) of your own by following a few implementation examples already present in the Intel Geti SDK package - [DirectoryTreeAnnotationReader](https://github.com/openvinotoolkit/geti-sdk/blob/main/geti_sdk/annotation_readers/directory_tree_annotation_reader.py). It is especially useful if you have an established home-grown annotation format and the data you gather will be kept in this format in the future as well.\n",
    "- You can create a project from scratch and upload the data and annotations to it, in multiple steps. This is the most straightforward approach, but it requires more interactions with the server.\n",
    "\n",
    "The following example adopts the last approach: it reads the dataset annotations from a `csv` file, then uses `geti-sdk` to create a detection project, upload images and annotations to it.\n",
    "\n",
    "First, let's read a few lines from the dataset annotation file to see what it looks like."
   ]
  },
  {
   "cell_type": "code",
   "execution_count": null,
   "id": "5ff6658a",
   "metadata": {},
   "outputs": [],
   "source": [
    "import csv\n",
    "\n",
    "ANNOTATION_FILE_PATH = \"./custom_dataset.csv\"\n",
    "annotation_file_contents = r\"\"\"image,xmin,ymin,xmax,ymax,label_name\n",
    "dog1.jpg,263,100,873,690,dog\n",
    "dog2.jpg,104,16,270,178,dog\"\"\"\n",
    "with open(ANNOTATION_FILE_PATH, \"w\") as csv_file:\n",
    "    csv_file.write(annotation_file_contents)\n",
    "\n",
    "with open(ANNOTATION_FILE_PATH, newline=\"\") as csv_file:\n",
    "    reader = csv.reader(csv_file)\n",
    "    header_line = next(reader)\n",
    "    first_data_line = next(reader)\n",
    "print(header_line)\n",
    "print(first_data_line)"
   ]
  },
  {
   "cell_type": "markdown",
   "id": "3f4ae004",
   "metadata": {},
   "source": [
    "In this example, the dataset annotation `csv` file contain six columns: `image` which is the sample path, `x_min`, `y_min`, `x_max`, `y_max` columns contain the bounding box coordinates, and the `label` column contains the object class label. The annotation file structure may vary and the processing code must be adjusted accordingly. It is also important to take into account all the known information about the dataset, such as the computer vision task(s) that the dataset is labeled for, number of classes and the number of images in the dataset to optimally process the it.\\\n",
    "As an example, you may not know the number of classes in the dataset, so you must find it out by reading the full annotation file to memory and extracting the unique values from the `label` column.\\\n",
    "In other cases, you may know the number of classes and their names, but the sample files are so big you would prefer to read and process the annotations line by line.\n",
    "\n",
    "To create a project, first to initialize a `ProjectClient` and call the `create_project` method, which is well explained in the previous notebook [001 create project](./001_create_project.ipynb). The dataset is labeled for `detection`, so the created Project should have the same type. The list of labels is passed directly to the `create_project` method; the label names should match the ones previously used in the dataset definition."
   ]
  },
  {
   "cell_type": "code",
   "execution_count": null,
   "id": "e8f38ba6",
   "metadata": {},
   "outputs": [],
   "source": [
    "from geti_sdk.rest_clients.project_client.project_client import ProjectClient\n",
    "\n",
    "project_client = ProjectClient(session=geti.session, workspace_id=geti.workspace_id)\n",
    "\n",
    "# Label names for the first (and only) trainable task in our Project.\n",
    "CLASS_NAMES = [\n",
    "    \"dog\",\n",
    "]\n",
    "\n",
    "project = project_client.create_project(\n",
    "    project_name=\"Dog Detection Project\",\n",
    "    project_type=\"detection\",\n",
    "    labels=[\n",
    "        CLASS_NAMES,\n",
    "    ],\n",
    ")"
   ]
  },
  {
   "cell_type": "markdown",
   "id": "8a61707b",
   "metadata": {},
   "source": [
    "You can examine the list of labels that are present in our newly created Project. The `get_all_labels` method of the ProjectClient returns a list of Geti SDK objects representing labels in the project. It's handy to define a dictionary that maps label names to the label objects, to be used later."
   ]
  },
  {
   "cell_type": "code",
   "execution_count": null,
   "id": "9866ef40",
   "metadata": {},
   "outputs": [],
   "source": [
    "all_labels = project.get_all_labels()\n",
    "label_dict = {label.name: label for label in all_labels}\n",
    "print(all_labels)"
   ]
  },
  {
   "cell_type": "markdown",
   "id": "c55fc1c5",
   "metadata": {},
   "source": [
    "To upload the images and annotations to the project, you need an `ImageClient` and an `AnnotationClient`."
   ]
  },
  {
   "cell_type": "code",
   "execution_count": null,
   "id": "ba00d7d0",
   "metadata": {},
   "outputs": [],
   "source": [
    "from geti_sdk.rest_clients.annotation_clients.annotation_client import AnnotationClient\n",
    "from geti_sdk.rest_clients.media_client.image_client import ImageClient\n",
    "\n",
    "image_client = ImageClient(session=geti.session, workspace_id=geti.workspace_id, project=project)\n",
    "annotation_client = AnnotationClient(session=geti.session, workspace_id=geti.workspace_id, project=project)"
   ]
  },
  {
   "cell_type": "markdown",
   "id": "8877c66e",
   "metadata": {},
   "source": [
    "The project is now ready to be populated. This can be done in two steps:\n",
    "1. Upload an image to the project.\n",
    "2. Prepare and upload the corresponding annotation.\n",
    "\n",
    "The first part is straightforward, thanks to the `upload_image` method of the `ImageClient`. The method can load an image from disk and send it to the server, it returns an `Image` object that can be later used to upload the annotation."
   ]
  },
  {
   "cell_type": "code",
   "execution_count": null,
   "id": "88f92dc3",
   "metadata": {},
   "outputs": [],
   "source": [
    "from geti_sdk.demos.constants import DEFAULT_DATA_PATH\n",
    "\n",
    "image_path = os.path.join(DEFAULT_DATA_PATH, \"example\", first_data_line[0])\n",
    "image_object = image_client.upload_image(image=image_path)\n",
    "image_object"
   ]
  },
  {
   "cell_type": "markdown",
   "id": "8377f8a5",
   "metadata": {},
   "source": [
    "Annotation creation is possible through the `upload_annotation` method of the `AnnotationClient`. The method requires the `Image` object, and the `AnnotationScene` object, needed to create from the annotation data. The `AnnotationScene` object is a container for the annotations of a single data sample, it consists of several `Annotation` instances each representing a single object in the image. The `Annotation` requires a bounding shape and a list of labels for that shape."
   ]
  },
  {
   "cell_type": "code",
   "execution_count": null,
   "id": "c85bed24",
   "metadata": {},
   "outputs": [],
   "source": [
    "from geti_sdk.data_models.annotation_scene import AnnotationScene\n",
    "from geti_sdk.data_models.annotations import Annotation\n",
    "from geti_sdk.data_models.shapes import Rectangle\n",
    "\n",
    "# From the CSV file entry, extract the coordinates of the rectangle\n",
    "x_min, y_min, x_max, y_max = first_data_line[1:5]\n",
    "\n",
    "# Create a Rectangle object to represent the shape of the annotation\n",
    "# Note: the Rectangle object requires the x, y, width and height of the rectangle,\n",
    "# so it's necessary to calculate the width and height from the x_min, y_min, x_max and y_max\n",
    "rectangle = Rectangle(\n",
    "    x=int(x_min),\n",
    "    y=int(y_min),\n",
    "    width=int(x_max) - int(x_min),\n",
    "    height=int(y_max) - int(y_min),\n",
    ")\n",
    "\n",
    "# Create the Annotation object,\n",
    "# The Label object can be found in the previously created label_dict\n",
    "# using the label name from the CSV file entry as a key\n",
    "label = label_dict[first_data_line[5]]\n",
    "annotation = Annotation(\n",
    "    labels=[\n",
    "        label,\n",
    "    ],\n",
    "    shape=rectangle,\n",
    ")\n",
    "\n",
    "# Create the AnnotationScene object and upload the annotation\n",
    "annotation_scene = AnnotationScene(\n",
    "    [\n",
    "        annotation,\n",
    "    ]\n",
    ")\n",
    "annotation_client.upload_annotation(image_object, annotation_scene)"
   ]
  },
  {
   "cell_type": "markdown",
   "id": "1a67b46c",
   "metadata": {},
   "source": [
    "The previous steps can be slightly refactored and extended to upload the rest of the dataset:\n",
    "\n",
    "```python\n",
    "from typing import List\n",
    "\n",
    "def upload_and_annotate_image(dataset_line: List[str]) -> None:\n",
    "    \"\"\"\n",
    "    Uploads an image and its annotation to the project\n",
    "\n",
    "    :param dataset_line: The line from the dataset that contains the image path and annotation\n",
    "        in format ['image_path', 'xmin', 'ymin', 'xmax', 'ymax', 'label_name']\n",
    "    \"\"\"\n",
    "    image_path = dataset_line[0]\n",
    "    image_object = image_client.upload_image(image=image_path)\n",
    "\n",
    "    x_min, y_min, x_max, y_max = map(int, dataset_line[1:5])\n",
    "    rectangle = Rectangle(\n",
    "        x=x_min,\n",
    "        y=y_min,\n",
    "        width=x_max - x_min,\n",
    "        height=y_max - y_min,\n",
    "    )\n",
    "    annotation = Annotation(\n",
    "        labels=[label_dict[dataset_line[5]],],\n",
    "        shape=rectangle,\n",
    "    )\n",
    "    annotation_scene = AnnotationScene([annotation])\n",
    "    annotation_client.upload_annotation(image_object, annotation_scene)\n",
    "    print(f\"Uploaded and annotated {image_path}\")\n",
    "\n",
    "# Iterate over the rest of the lines in the CSV file and upload and annotate the images\n",
    "with open(ANNOTATION_FILE_PATH, newline='') as csv_file:\n",
    "    reader = csv.reader(csv_file)\n",
    "    header_line = next(reader)\n",
    "    for line in reader:\n",
    "        upload_and_annotate_image(line)\n",
    "```\n",
    "\n"
   ]
  }
 ],
 "metadata": {
  "kernelspec": {
   "display_name": "Python 3 (ipykernel)",
   "language": "python",
   "name": "python3"
  },
  "language_info": {
   "codemirror_mode": {
    "name": "ipython",
    "version": 3
   },
   "file_extension": ".py",
   "mimetype": "text/x-python",
   "name": "python",
   "nbconvert_exporter": "python",
   "pygments_lexer": "ipython3",
   "version": "3.10.0"
  }
 },
 "nbformat": 4,
 "nbformat_minor": 5
}
