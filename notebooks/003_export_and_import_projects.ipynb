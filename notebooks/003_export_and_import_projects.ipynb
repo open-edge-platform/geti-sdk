{
 "cells": [
  {
   "cell_type": "markdown",
   "id": "c280ed44de49ca57",
   "metadata": {},
   "source": [
    "# Exporting and importing projects\n",
    "\n",
    "This notebook shows how to use `geti-sdk` to export a project from Geti and import it back. This feature is useful for sharing projects between different Geti instances or for backing up projects."
   ]
  },
  {
   "cell_type": "markdown",
   "id": "100a28a632ce7c89",
   "metadata": {},
   "source": [
    "### Set up the connection to the platform\n",
    "\n",
    "First, set up the connection to the server. This is done by instantiating a Geti object, with the hostname (or ip address) and authentication details for the server. As in notebook [001 create_project](001_create_project.ipynb), the server details are stored in the `.env` file and are loaded in the cell below. For details on how to create the `.env` file, please see the [readme](README.md)."
   ]
  },
  {
   "cell_type": "code",
   "execution_count": null,
   "id": "805fb068e90caf0d",
   "metadata": {},
   "outputs": [],
   "source": [
    "from geti_sdk import Geti\n",
    "from geti_sdk.utils import get_server_details_from_env\n",
    "\n",
    "geti_server_configuration = get_server_details_from_env()\n",
    "geti = Geti(server_config=geti_server_configuration)"
   ]
  },
  {
   "cell_type": "markdown",
   "id": "418f49adbaf2347a",
   "metadata": {},
   "source": [
    "### Select the project to export\n",
    "\n",
    "This example is based on the project `Cats & Dogs` created by notebook [002 create project from dataset](002_create_project_from_dataset.ipynb). If you want to use a different project, you can change the `PROJECT_NAME` variable below to the name of the project you want to export."
   ]
  },
  {
   "cell_type": "code",
   "execution_count": null,
   "id": "f07897979bd762e2",
   "metadata": {},
   "outputs": [],
   "source": [
    "from geti_sdk.rest_clients import ProjectClient\n",
    "\n",
    "PROJECT_NAME = \"Cats & Dogs\"\n",
    "\n",
    "project_client = ProjectClient(session=geti.session, workspace_id=geti.workspace_id)\n",
    "project = project_client.get_project(PROJECT_NAME)\n",
    "print(f\"Selected project: {project.name} (id: {project.id})\")"
   ]
  },
  {
   "cell_type": "markdown",
   "id": "67b8bb2c68997efd",
   "metadata": {},
   "source": [
    "## Project export\n",
    "\n",
    "Geti allows users to export projects as a zip file, which contains all the information about the project, including media, annotations and models. The exported project can be later imported back into Geti, either on the same instance or on a different deployment.\n",
    "\n",
    "In `geti-sdk`, the `GetiIE` class exposes methods to conveniently export and import projects and datasets."
   ]
  },
  {
   "cell_type": "code",
   "execution_count": null,
   "id": "35c8362e4b035fc6",
   "metadata": {},
   "outputs": [],
   "source": [
    "from geti_sdk.import_export import GetiIE\n",
    "\n",
    "geti_ie = GetiIE(session=geti.session, workspace_id=geti.workspace_id, project_client=project_client)"
   ]
  },
  {
   "cell_type": "markdown",
   "id": "ab5e97dc93c627ee",
   "metadata": {},
   "source": [
    "Before exporting the project, make sure to have enough disk space available, as the exported project can be quite large, depending on the size of the media and models in the project.\n",
    "Then, call the `export_project` method specifying the target path where the project should be saved."
   ]
  },
  {
   "cell_type": "code",
   "execution_count": null,
   "id": "e020cfa7bfce5629",
   "metadata": {},
   "outputs": [],
   "source": [
    "EXPORT_PATH = \"/tmp/my_project.zip\"\n",
    "\n",
    "geti_ie.export_project(project_id=project.id, filepath=EXPORT_PATH)"
   ]
  },
  {
   "cell_type": "markdown",
   "id": "8bc3bb77e951ac4",
   "metadata": {},
   "source": [
    "Now verify that the file has been created at the specified path. You can use the `os` module to check if the file exists."
   ]
  },
  {
   "cell_type": "code",
   "execution_count": null,
   "id": "f0fc34c7814f5121",
   "metadata": {},
   "outputs": [],
   "source": [
    "import os\n",
    "\n",
    "if os.path.exists(EXPORT_PATH):\n",
    "    file_size = os.path.getsize(EXPORT_PATH)\n",
    "    print(f\"Project exported successfully to {EXPORT_PATH}, size: {file_size} bytes\")\n",
    "else:\n",
    "    raise RuntimeError(f\"Project export failed, file not found at {EXPORT_PATH}\")"
   ]
  },
  {
   "cell_type": "markdown",
   "id": "f19a261dd179c9db",
   "metadata": {},
   "source": [
    "## Project import\n",
    "\n",
    "The exported project can be imported back into Geti using the `import_project` method of the `GetiIE` class. This method takes the path to the exported project file and the name to assign to the imported project."
   ]
  },
  {
   "cell_type": "code",
   "execution_count": null,
   "id": "c3d77f98eae29d7",
   "metadata": {},
   "outputs": [],
   "source": [
    "imported_project = geti_ie.import_project(filepath=EXPORT_PATH, project_name=\"Imported Cats & Dogs\")\n",
    "\n",
    "print(imported_project.summary)"
   ]
  },
  {
   "cell_type": "markdown",
   "id": "b726b05d517caf5c",
   "metadata": {},
   "source": [
    "That's it! The imported project should now be available in the workspace. You can verify this by listing all projects in the workspace and checking if the imported project is present."
   ]
  },
  {
   "cell_type": "code",
   "execution_count": null,
   "id": "e955d0db2e3c12f4",
   "metadata": {},
   "outputs": [],
   "source": [
    "project_client.list_projects()"
   ]
  },
  {
   "cell_type": "markdown",
   "id": "78d8ec725ac64624",
   "metadata": {},
   "source": [
    "The imported project should have the same media, annotations and models as the original project.\n",
    "As a quick sanity check, you can verify that the labels in the imported project match the original project."
   ]
  },
  {
   "cell_type": "code",
   "execution_count": null,
   "id": "ded280dbf68563e5",
   "metadata": {},
   "outputs": [],
   "source": [
    "original_project_labels = {label.name for label in project.pipeline.get_labels_per_task()[0]}\n",
    "imported_project_labels = {label.name for label in imported_project.pipeline.get_labels_per_task()[0]}\n",
    "\n",
    "if original_project_labels == imported_project_labels:\n",
    "    print(\"Labels match between original and imported project.\")\n",
    "else:\n",
    "    raise ValueError(\n",
    "        f\"Labels do not match between original and imported project.\"\n",
    "        f\"Original labels: {original_project_labels}, \"\n",
    "        f\"Imported labels: {imported_project_labels}\"\n",
    "    )"
   ]
  },
  {
   "cell_type": "code",
   "execution_count": null,
   "id": "a554a5dc-8009-4564-864c-365105070fe9",
   "metadata": {},
   "outputs": [],
   "source": []
  }
 ],
 "metadata": {
  "kernelspec": {
   "display_name": "Python 3 (ipykernel)",
   "language": "python",
   "name": "python3"
  },
  "language_info": {
   "codemirror_mode": {
    "name": "ipython",
    "version": 3
   },
   "file_extension": ".py",
   "mimetype": "text/x-python",
   "name": "python",
   "nbconvert_exporter": "python",
   "pygments_lexer": "ipython3",
   "version": "3.10.0"
  }
 },
 "nbformat": 4,
 "nbformat_minor": 5
}
