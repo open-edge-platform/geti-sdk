{
 "cells": [
  {
   "cell_type": "markdown",
   "id": "eb6c85c8-81c5-4cfc-98ac-297e2524c6aa",
   "metadata": {},
   "source": [
    "# Reconfiguring the model for a task\n",
    "In this notebook, we will have a look at how to interact with model and task configurations, and how to reconfigure the model for a certain task in the project."
   ]
  },
  {
   "cell_type": "code",
   "execution_count": null,
   "id": "4ebd0b09-0adb-4197-a3f2-3add32dbe2c9",
   "metadata": {},
   "outputs": [],
   "source": [
    "# As usual we will connect to the platform first, using the server details from the .env file. We will also create a ProjectClient for the server\n",
    "\n",
    "from geti_sdk import Geti\n",
    "from geti_sdk.rest_clients import ProjectClient\n",
    "from geti_sdk.utils import get_server_details_from_env\n",
    "\n",
    "geti_server_configuration = get_server_details_from_env()\n",
    "\n",
    "geti = Geti(server_config=geti_server_configuration)\n",
    "\n",
    "project_client = ProjectClient(session=geti.session, workspace_id=geti.workspace_id)"
   ]
  },
  {
   "cell_type": "markdown",
   "id": "e04e785e-31b1-4982-abda-22b5e9c3f625",
   "metadata": {},
   "source": [
    "#### Selecting a project\n",
    "Let's get a list of projects in the workspace, and select the project `COCO multitask animal demo` that we created in notebook [004 create pipeline project from dataset](004_create_pipeline_project_from_dataset.ipynb). Feel free to use a different project by changing the `PROJECT_NAME` variable"
   ]
  },
  {
   "cell_type": "code",
   "execution_count": null,
   "id": "a3ca66c8-b40e-454d-aaa0-99b937c6e5c1",
   "metadata": {},
   "outputs": [],
   "source": [
    "PROJECT_NAME = \"COCO multitask animal demo\"\n",
    "projects = project_client.list_projects()\n",
    "\n",
    "project = project_client.get_project(PROJECT_NAME)"
   ]
  },
  {
   "cell_type": "markdown",
   "id": "81bdf9d7-bf20-4323-b827-4e76e50d86c9",
   "metadata": {},
   "source": [
    "## Configuring a task in the project\n",
    "\n",
    "#### Setting up the ConfigurationClient\n",
    "To be able to inspect and change the project's configuration, we will need to set up a ConfigurationClient for the project."
   ]
  },
  {
   "cell_type": "code",
   "execution_count": null,
   "id": "294b15c7-c8f3-46e0-88f1-9c5b8b94ed0a",
   "metadata": {},
   "outputs": [],
   "source": [
    "from geti_sdk.rest_clients import ConfigurationClient\n",
    "\n",
    "configuration_client = ConfigurationClient(\n",
    "    session=geti.session, workspace_id=geti.workspace_id, project=project\n",
    ")"
   ]
  },
  {
   "cell_type": "markdown",
   "id": "e319d056-10ab-4bbc-9996-647c28e6578c",
   "metadata": {},
   "source": [
    "#### Selecting the task to configure\n",
    "The project `COCO multitask animal demo` has two tasks: let's select the first one as an example"
   ]
  },
  {
   "cell_type": "code",
   "execution_count": null,
   "id": "7508fb8e-d1a2-4b05-8fc4-a8339002fd62",
   "metadata": {},
   "outputs": [],
   "source": [
    "task = project.get_trainable_tasks()[0]\n",
    "print(task.summary)"
   ]
  },
  {
   "cell_type": "markdown",
   "id": "241678e3-8df8-4a19-8d74-8ecdc9d5e0d1",
   "metadata": {},
   "source": [
    "#### Getting the task configuration\n",
    "With the configuration_client and task ready, we can request the configuration for the task"
   ]
  },
  {
   "cell_type": "code",
   "execution_count": null,
   "id": "5357dbd8-d4b7-417f-94a6-04f30ca91898",
   "metadata": {},
   "outputs": [],
   "source": [
    "task_configuration = configuration_client.get_task_configuration(task_id=task.id)\n",
    "print(task_configuration.summary)"
   ]
  },
  {
   "cell_type": "markdown",
   "id": "41b8de22-3108-4ede-be3a-4d809407c5ef",
   "metadata": {},
   "source": [
    "#### Inspecting individual parameters\n",
    "As you may know the parameters in the configuration contain much more metadata than what is shown in the summary above. We can have a closer look at the metadata for the individual parameters by accessing them directly (by their name) from the task_configuration. The cell below shows how to so"
   ]
  },
  {
   "cell_type": "code",
   "execution_count": null,
   "id": "b87f33ce-dc66-49bb-ba04-e30ee34de3ae",
   "metadata": {},
   "outputs": [],
   "source": [
    "print(task_configuration.batch_size.overview)"
   ]
  },
  {
   "cell_type": "markdown",
   "id": "f630d605-74e3-4b53-afdc-220008587f98",
   "metadata": {},
   "source": [
    "### Changing the task configuration values\n",
    "The method `configuration_client.set_configuration` allows us to reconfigure the project and tasks. \n",
    "\n",
    "We can change the parameter values in the task_configuration that we obtained above, and then send it to the `set_configuration` method to update the configuration on the platform. So let's change a couple of values now first"
   ]
  },
  {
   "cell_type": "code",
   "execution_count": null,
   "id": "faaa9cdf-2e1c-42d6-ac78-3661c8524e17",
   "metadata": {},
   "outputs": [],
   "source": [
    "# Set batch size to 10\n",
    "task_configuration.batch_size.value = 10"
   ]
  },
  {
   "cell_type": "code",
   "execution_count": null,
   "id": "a60d6b7c-36cd-4bb2-b8c8-350245e7d1b3",
   "metadata": {},
   "outputs": [],
   "source": [
    "# Double the learning rate\n",
    "old_learning_rate = task_configuration.learning_rate.value\n",
    "task_configuration.learning_rate.value = 2 * old_learning_rate"
   ]
  },
  {
   "cell_type": "markdown",
   "id": "08f99136-8c9f-48d2-bc76-05ce8d8224d5",
   "metadata": {},
   "source": [
    "## Setting the configuration on the platform\n",
    "With the values updated, we can now use the configuration_client to send the new task_configuration to the platform"
   ]
  },
  {
   "cell_type": "code",
   "execution_count": null,
   "id": "9d81328c-88b4-48c2-a0a7-d67ac31a038c",
   "metadata": {},
   "outputs": [],
   "source": [
    "configuration_client.set_configuration(task_configuration)"
   ]
  },
  {
   "cell_type": "markdown",
   "id": "4ddcfa79-0b27-475c-97e8-904c62dada28",
   "metadata": {},
   "source": [
    "#### Checking the new configuration, to make sure that it worked\n",
    "In the cell below we get the configuration for the task again, and print a summary. You should see the changes in the parameter values reflected in the summary."
   ]
  },
  {
   "cell_type": "code",
   "execution_count": null,
   "id": "2a46b005-d8c4-4e36-8032-3f5f342ce2df",
   "metadata": {},
   "outputs": [],
   "source": [
    "new_task_configuration = configuration_client.get_task_configuration(task_id=task.id)\n",
    "print(new_task_configuration.summary)"
   ]
  },
  {
   "cell_type": "code",
   "execution_count": null,
   "id": "f4290c2f-9952-4387-8150-b757972d9900",
   "metadata": {},
   "outputs": [],
   "source": []
  }
 ],
 "metadata": {
  "kernelspec": {
   "display_name": "Python 3 (ipykernel)",
   "language": "python",
   "name": "python3"
  },
  "language_info": {
   "codemirror_mode": {
    "name": "ipython",
    "version": 3
   },
   "file_extension": ".py",
   "mimetype": "text/x-python",
   "name": "python",
   "nbconvert_exporter": "python",
   "pygments_lexer": "ipython3",
   "version": "3.10.12"
  }
 },
 "nbformat": 4,
 "nbformat_minor": 5
}
