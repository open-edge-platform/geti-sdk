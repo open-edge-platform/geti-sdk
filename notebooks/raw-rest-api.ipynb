{
 "cells": [
  {
   "cell_type": "markdown",
   "metadata": {},
   "source": [
    "# Intel Geti REST API Tutorial: How to create a Project and upload a media item\n",
    "This tutorial will guide you through the process of creating a project and uploading an image to the Intel Geti platform using the REST API. Although this tutorial is written in Python, you can use any programming language that supports REST API calls. Throughout this tutorial the main reference point for you will be the Intel Geti REST API documentation, you can access it by following `https://YOUR_GETI_HOST/docs/rest/` in your browser. The Swagger page available at this address will provide you with all the necessary information about the endpoints, request and response bodies.\n",
    "\n",
    "## Prerequisites\n",
    "Before we start, make sure you have the following:\n",
    "1. A Python 3 interpreter installed on your machine. Any version will work, but the Python 3.8 or newer is recommended.\n",
    "2. To run this tutorial in your local environment, you will need to install the `requests` library. As well as the `jupyter` package to run the Jupyter Notebook.\n",
    "    You can do this by running the following command in your terminal:\n",
    "    ```bash\n",
    "    python3 -m pip install requests jupyter notebook\n",
    "    ```\n",
    "3. An Intel Geti Platform Host address. If you don't have a Geti account, you can create it here https://geti.intel.com/.\n",
    "4. Your `username`.\n",
    "5. Personal access token that can be used for authentication. You can generate it by following the link `https://YOUR_GETI_HOST/account/personal-access-token/` -> `Create`.\n",
    "6. Proxies environment variable set up on your machine if needed.\n"
   ]
  },
  {
   "cell_type": "code",
   "execution_count": 2,
   "metadata": {},
   "outputs": [],
   "source": [
    "HOST = \"https://geti-demo.iotg.sclab.intel.com/\"\n",
    "USERNAME = \"==\"\n",
    "TOKEN = \"==\"\n",
    "\n",
    "# Following the information from the API documentation we append the version api version to our host url.\n",
    "# All the endpoints include the API version in their address and will rely on this variable.\n",
    "HOST = HOST + \"api/v1/\"\n",
    "\n",
    "# We will include the `x-api-key` header to all our API calls, this way the server will be able to authenticate our requests.\n",
    "headers = {\"x-api-key\": TOKEN}"
   ]
  },
  {
   "cell_type": "code",
   "execution_count": 3,
   "metadata": {},
   "outputs": [],
   "source": [
    "# Certification?\n",
    "\n",
    "# import certifi\n",
    "# certifi.where()"
   ]
  },
  {
   "cell_type": "markdown",
   "metadata": {},
   "source": [
    "## Step 1: Obtain the Organization and Workspace IDs\n",
    "In Intel Geti projects belong to workspaces, workspaces in their turn belong to organizations.\n",
    "To interact with a project, we need to determine the `organization_id` and `workspace_id` that we want to use. A `GET` request to the `personal_access_tokens/organization` endpoint will get us a response containing the ID of the organization that you have access to."
   ]
  },
  {
   "cell_type": "code",
   "execution_count": 4,
   "metadata": {},
   "outputs": [
    {
     "name": "stdout",
     "output_type": "stream",
     "text": [
      "{'organizationId': 'c16095ac-60bf-4931-b059-c83f508308ac'}\n"
     ]
    }
   ],
   "source": [
    "import requests\n",
    "\n",
    "# Disable certification warnings\n",
    "import urllib3\n",
    "\n",
    "urllib3.disable_warnings()\n",
    "\n",
    "response = requests.get(\n",
    "    HOST + \"personal_access_tokens/organization\", headers=headers, verify=False\n",
    ")\n",
    "print(response.json())\n",
    "\n",
    "# Save the organization ID for future use\n",
    "ORG_ID = response.json()[\"organizationId\"]"
   ]
  },
  {
   "cell_type": "markdown",
   "metadata": {},
   "source": [
    " After that, you can call the `GET /organizations/{organization_id}/workspaces/` endpoint to get the list of workspaces in the organization. Choose the workspace you want to use and get the `workspace_id` from the response."
   ]
  },
  {
   "cell_type": "code",
   "execution_count": 5,
   "metadata": {},
   "outputs": [
    {
     "data": {
      "text/plain": [
       "{'workspaces': [{'id': '92597063-e623-42ea-9e41-e9edb20c14ec',\n",
       "   'name': 'Default workspace',\n",
       "   'organizationId': 'c16095ac-60bf-4931-b059-c83f508308ac',\n",
       "   'createdAt': '2024-06-17T20:23:44Z',\n",
       "   'createdBy': '',\n",
       "   'modifiedAt': None,\n",
       "   'modifiedBy': ''}],\n",
       " 'totalCount': 1,\n",
       " 'totalMatchedCount': 1,\n",
       " 'nextPage': {'skip': 0, 'limit': 0}}"
      ]
     },
     "execution_count": 5,
     "metadata": {},
     "output_type": "execute_result"
    }
   ],
   "source": [
    "response = requests.get(\n",
    "    HOST + f\"organizations/{ORG_ID}/workspaces\", headers=headers, verify=False\n",
    ").json()\n",
    "\n",
    "WORKSPACE_ID = response[\"workspaces\"][0][\"id\"]\n",
    "\n",
    "response"
   ]
  },
  {
   "cell_type": "markdown",
   "metadata": {},
   "source": [
    "Let's update the base URL, adding the `organization_id`, and `workspace_id` to the HOST name, it will shorten the URL for the following requests."
   ]
  },
  {
   "cell_type": "code",
   "execution_count": 6,
   "metadata": {},
   "outputs": [
    {
     "name": "stdout",
     "output_type": "stream",
     "text": [
      "https://geti-demo.iotg.sclab.intel.com/api/v1/organizations/c16095ac-60bf-4931-b059-c83f508308ac/workspaces/92597063-e623-42ea-9e41-e9edb20c14ec/\n"
     ]
    }
   ],
   "source": [
    "HOST = HOST + \"organizations/\" + ORG_ID + \"/\" + \"workspaces/\" + WORKSPACE_ID + \"/\"\n",
    "\n",
    "print(HOST)"
   ]
  },
  {
   "cell_type": "markdown",
   "metadata": {},
   "source": [
    "## Create a project\n",
    "Let's create a simple detection project. The REST API reference suggests that we need to send a POST request to the `/organizations/{organization_id}/workspaces/{workspace_id}/projects` endpoint. The endpoint description also contains the message schema, lists available project types and constrains on the label configuration in the project.\n",
    "The request body should contain the project name and pipeline configuration.\n",
    "Pipeline configuration is a JSON object that describes the task execution graph, is contains a list of tasks in the Project, labels for those tasks, and the connections between the tasks.\n",
    "Although it is possible to create longer task-chain projects with Intel Geti, in this tutorial we will create a simple project with just two tasks.\n",
    "1. The first task has the `dataset` type and all the projects In Intel Geti start with this tasks. It represents the training dataset retrieval and preparation for the model training.\n",
    ">Note The only other member of the  utility task family is the `crop` task, which you put between trainable tasks in chained projects to crop the output of the previous task before passing it to the next task. Detection -> Crop -> Classification, for example. The `crop` task is not used in this tutorial.\n",
    "2. The second task is the `detection` type task. This task have a trainable model behind it, see the full list of currently supported trainable tasks:\n",
    "    * classification\n",
    "    * detection\n",
    "    * rotated_detection\n",
    "    * segmentation\n",
    "    * instance_segmentation\n",
    "    * anomaly_classification\n",
    "    * anomaly_detection\n",
    "    * anomaly_segmentation\n",
    "\n",
    "For the detection task we will also create an `object` label, which will be used to annotate the image. The documentation says: \"A default 'No object' label is automatically created for detection task\", so we don't need to create it manually.\n",
    "\n",
    "Finally, the `connections` is just a list of dictionaries, where each dictionary contains the `from` and `to` keys pointing to the titels of the tasks in the pipeline configuration list. In our case, the project graph contains only two tasks, so we need only one connection."
   ]
  },
  {
   "cell_type": "code",
   "execution_count": 7,
   "metadata": {},
   "outputs": [],
   "source": [
    "project_name = \"TUTORIAL DETECTION PROJECT\"\n",
    "tasks = [\n",
    "    {\n",
    "        \"task_type\": \"dataset\",\n",
    "        \"title\": \"Dataset\",\n",
    "    },\n",
    "    {\n",
    "        \"task_type\": \"detection\",\n",
    "        \"title\": \"Detection Task\",\n",
    "        \"labels\": [\n",
    "            {\n",
    "                \"name\": \"object\",\n",
    "                \"color\": \"#ff0000\",\n",
    "                \"group\": \"default_detection\",\n",
    "            },\n",
    "        ],\n",
    "    },\n",
    "]\n",
    "connections = [\n",
    "    {\n",
    "        \"from\": \"Dataset\",\n",
    "        \"to\": \"Detection Task\",\n",
    "    },\n",
    "]"
   ]
  },
  {
   "cell_type": "markdown",
   "metadata": {},
   "source": [
    "For longer task chaines, if you listed the tasks in the logical order, you can use a snippet like this to create the connections:\n",
    "```python\n",
    "connections = [\n",
    "    {\n",
    "        \"from\": prev_task[\"title\"],\n",
    "        \"to\": next_task[\"title\"],\n",
    "    } for prev_task, next_task in zip(tasks[:-1], tasks[1:])\n",
    "]\n",
    "```\n",
    "\n",
    "### Compile the message and fire the Project Creation request\n",
    "Let's just pack all the message parts in to the request body and send it to the server."
   ]
  },
  {
   "cell_type": "code",
   "execution_count": 8,
   "metadata": {},
   "outputs": [],
   "source": [
    "project_creation_request_data = {\n",
    "    \"name\": project_name,\n",
    "    \"pipeline\": {\n",
    "        \"connections\": connections,\n",
    "        \"tasks\": tasks,\n",
    "    },\n",
    "}"
   ]
  },
  {
   "cell_type": "code",
   "execution_count": 9,
   "metadata": {},
   "outputs": [
    {
     "data": {
      "text/plain": [
       "{'id': '667a68ce4994eaba0842f320',\n",
       " 'name': 'TUTORIAL DETECTION PROJECT',\n",
       " 'creation_time': '2024-06-25T06:50:54.634000+00:00',\n",
       " 'creator_id': 'fa772443-859e-4c57-9b12-294fff537bb3',\n",
       " 'pipeline': {'tasks': [{'id': '667a68ce4994eaba0842f321',\n",
       "    'title': 'Dataset',\n",
       "    'task_type': 'dataset'},\n",
       "   {'id': '667a68ce4994eaba0842f323',\n",
       "    'title': 'Detection Task',\n",
       "    'task_type': 'detection',\n",
       "    'labels': [{'id': '667a68ce4994eaba0842f325',\n",
       "      'name': 'object',\n",
       "      'is_anomalous': False,\n",
       "      'color': '#ff0000ff',\n",
       "      'hotkey': '',\n",
       "      'is_empty': False,\n",
       "      'group': 'default_detection',\n",
       "      'parent_id': None},\n",
       "     {'id': '667a68ce4994eaba0842f329',\n",
       "      'name': 'No object',\n",
       "      'is_anomalous': False,\n",
       "      'color': '#000000ff',\n",
       "      'hotkey': '',\n",
       "      'is_empty': True,\n",
       "      'group': 'No object',\n",
       "      'parent_id': None}],\n",
       "    'label_schema_id': '667a68ce4994eaba0842f32b'}],\n",
       "  'connections': [{'from': '667a68ce4994eaba0842f321',\n",
       "    'to': '667a68ce4994eaba0842f323'}]},\n",
       " 'thumbnail': '/api/v1/organizations/c16095ac-60bf-4931-b059-c83f508308ac/workspaces/92597063-e623-42ea-9e41-e9edb20c14ec/projects/667a68ce4994eaba0842f320/thumbnail',\n",
       " 'performance': {'score': None,\n",
       "  'task_performances': [{'task_id': '667a68ce4994eaba0842f323',\n",
       "    'score': None}]},\n",
       " 'storage_info': {},\n",
       " 'datasets': [{'id': '667a68ce4994eaba0842f326',\n",
       "   'name': 'Dataset',\n",
       "   'use_for_training': True,\n",
       "   'creation_time': '2024-06-25T06:50:54.633000+00:00'}]}"
      ]
     },
     "execution_count": 9,
     "metadata": {},
     "output_type": "execute_result"
    }
   ],
   "source": [
    "response = requests.post(\n",
    "    HOST + \"projects\", headers=headers, json=project_creation_request_data, verify=False\n",
    ")\n",
    "project_dict = response.json()\n",
    "\n",
    "project_dict"
   ]
  },
  {
   "cell_type": "markdown",
   "metadata": {},
   "source": [
    "Take a look at the response the server sends back. The server assigned `IDs` to all the entities in the project, including the project itself, tasks, and labels. We will need these IDs to modify tasks configuration, assign labels to media items and manage model deployments among other things.\n",
    "\n",
    "Also note that the server created a default training dataset for us. We will use it to upload an image in the next step."
   ]
  },
  {
   "cell_type": "markdown",
   "metadata": {},
   "source": [
    "## Upload an image\n",
    "Now we will upload a media item to our newly created project. The endpoint for this is \\\n",
    "`/organizations/{organization_id}/workspaces/{workspace_id}/projects/{project_id}/datasets/{dataset_id}/media/images`.\\\n",
    "The request body should contain just the media item bytes, the server will assight it an id on reception."
   ]
  },
  {
   "cell_type": "code",
   "execution_count": 10,
   "metadata": {},
   "outputs": [],
   "source": [
    "project_id = project_dict[\"id\"]\n",
    "dataset_id = project_dict[\"datasets\"][0][\"id\"]\n",
    "url_suffix = f\"projects/{project_id}/datasets/{dataset_id}/media/images\""
   ]
  },
  {
   "cell_type": "code",
   "execution_count": 11,
   "metadata": {},
   "outputs": [],
   "source": [
    "# Let's create the image bytes reader and pass it to the requests.post method\n",
    "file_path = \"./cat_sample.jpg\"\n",
    "buffer = open(file_path, \"rb\")"
   ]
  },
  {
   "cell_type": "code",
   "execution_count": 12,
   "metadata": {},
   "outputs": [
    {
     "data": {
      "text/plain": [
       "{'id': '667a68cf4994eaba0842f32c',\n",
       " 'name': 'cat_sample',\n",
       " 'type': 'image',\n",
       " 'media_information': {'height': 426,\n",
       "  'width': 640,\n",
       "  'display_url': '/api/v1/organizations/c16095ac-60bf-4931-b059-c83f508308ac/workspaces/92597063-e623-42ea-9e41-e9edb20c14ec/projects/667a68ce4994eaba0842f320/datasets/667a68ce4994eaba0842f326/media/images/667a68cf4994eaba0842f32c/display/full',\n",
       "  'size': 82118},\n",
       " 'annotation_state_per_task': [{'task_id': '667a68ce4994eaba0842f323',\n",
       "   'state': 'none'}],\n",
       " 'upload_time': '2024-06-25T06:50:55.180000+00:00',\n",
       " 'uploader_id': 'fa772443-859e-4c57-9b12-294fff537bb3',\n",
       " 'thumbnail': '/api/v1/organizations/c16095ac-60bf-4931-b059-c83f508308ac/workspaces/92597063-e623-42ea-9e41-e9edb20c14ec/projects/667a68ce4994eaba0842f320/datasets/667a68ce4994eaba0842f326/media/images/667a68cf4994eaba0842f32c/display/thumb'}"
      ]
     },
     "execution_count": 12,
     "metadata": {},
     "output_type": "execute_result"
    }
   ],
   "source": [
    "response = requests.post(\n",
    "    HOST + url_suffix, headers=headers, files={\"file\": buffer}, verify=False\n",
    ")\n",
    "image_dict = response.json()\n",
    "\n",
    "image_dict"
   ]
  },
  {
   "cell_type": "markdown",
   "metadata": {},
   "source": [
    "Again, take a look at the response. The server assigned an `ID` to the media item, which we will need to annotate it in the next step. It also returned the media item metadata, including the `width` and `height` of the image, its size amd upload time."
   ]
  },
  {
   "cell_type": "markdown",
   "metadata": {},
   "source": [
    "### Annotate the image\n",
    "Finally, we can annotate an object on the image. The endpoint for this is \\\n",
    "`/organizations/{organization_id}/workspaces/{workspace_id}/projects/{project_id}/datasets/{dataset_id}/media/images/{image_id}/annotations`."
   ]
  },
  {
   "cell_type": "code",
   "execution_count": 13,
   "metadata": {},
   "outputs": [],
   "source": [
    "image_id = image_dict[\"id\"]\n",
    "\n",
    "url_suffix = (\n",
    "    f\"projects/{project_id}/datasets/{dataset_id}/media/images/{image_id}/annotations\"\n",
    ")"
   ]
  },
  {
   "cell_type": "markdown",
   "metadata": {},
   "source": [
    "The request body for this endpoint should contain a list of annotations. Each annotation is a dictionary with the shape of the object you want to annotate and label you want to assign. Documentation contains details on the annotation format for each task type, in our case, we need to provide the `RECTANGLE` type shape with left top `x` and `y` coordinates, and the `width` and `height` of the rectangle. The label should be the `ID` of the label we want to assign to the object."
   ]
  },
  {
   "cell_type": "code",
   "execution_count": 14,
   "metadata": {},
   "outputs": [],
   "source": [
    "object_label_id = project_dict[\"pipeline\"][\"tasks\"][1][\"labels\"][0][\"id\"]\n",
    "\n",
    "annotatiion_request_data = {\n",
    "    \"annotations\": [\n",
    "        {\n",
    "            \"shape\": {\n",
    "                \"type\": \"RECTANGLE\",\n",
    "                \"x\": 340,\n",
    "                \"y\": 153,\n",
    "                \"width\": 77,\n",
    "                \"height\": 145,\n",
    "            },\n",
    "            \"labels\": [\n",
    "                {\n",
    "                    \"id\": object_label_id,\n",
    "                }\n",
    "            ],\n",
    "        },\n",
    "    ],\n",
    "}"
   ]
  },
  {
   "cell_type": "code",
   "execution_count": 15,
   "metadata": {},
   "outputs": [
    {
     "data": {
      "text/plain": [
       "{'kind': 'annotation',\n",
       " 'modified': '2024-06-25T06:50:55.744000+00:00',\n",
       " 'media_identifier': {'type': 'image', 'image_id': '667a68cf4994eaba0842f32c'},\n",
       " 'id': '667a68cf4994eaba0842f32e',\n",
       " 'labels_to_revisit_full_scene': [],\n",
       " 'annotation_state_per_task': [{'task_id': '667a68ce4994eaba0842f323',\n",
       "   'state': 'annotated'}],\n",
       " 'annotations': [{'id': '667a68cf4994eaba0842f32d',\n",
       "   'modified': '2024-06-25T06:50:55.744000+00:00',\n",
       "   'labels': [{'id': '667a68ce4994eaba0842f325',\n",
       "     'probability': 1.0,\n",
       "     'source': {'user_id': 'fa772443-859e-4c57-9b12-294fff537bb3',\n",
       "      'model_id': None,\n",
       "      'model_storage_id': None}}],\n",
       "   'labels_to_revisit': [],\n",
       "   'shape': {'type': 'RECTANGLE',\n",
       "    'x': 340,\n",
       "    'y': 153,\n",
       "    'width': 77,\n",
       "    'height': 145}}]}"
      ]
     },
     "execution_count": 15,
     "metadata": {},
     "output_type": "execute_result"
    }
   ],
   "source": [
    "response = requests.post(\n",
    "    HOST + url_suffix, headers=headers, json=annotatiion_request_data, verify=False\n",
    ")\n",
    "response.json()"
   ]
  },
  {
   "cell_type": "markdown",
   "metadata": {},
   "source": [
    "The server will assign an `ID` to each annotation on reception, inspect the response to get the annotation `ID`.\n",
    "\n",
    "At this point you can log in to the Intel Geti Platform Web UI and see the project you created, the media item you uploaded, and the annotation you made.\\\n",
    "We will look at more complex actions like training and model downloading in the next sections."
   ]
  }
 ],
 "metadata": {
  "kernelspec": {
   "display_name": "geti-sdk",
   "language": "python",
   "name": "python3"
  },
  "language_info": {
   "codemirror_mode": {
    "name": "ipython",
    "version": 3
   },
   "file_extension": ".py",
   "mimetype": "text/x-python",
   "name": "python",
   "nbconvert_exporter": "python",
   "pygments_lexer": "ipython3",
   "version": "3.10.12"
  }
 },
 "nbformat": 4,
 "nbformat_minor": 2
}
