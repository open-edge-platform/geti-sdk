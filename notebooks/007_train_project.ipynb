{
 "cells": [
  {
   "cell_type": "markdown",
   "id": "cba1faac-8dca-4759-90cc-c54a70e87b7a",
   "metadata": {},
   "source": [
    "# Starting a training round for a task\n",
    "In this notebook, we will trigger training for a task in the project, and monitor the training job progress. We will use the project created in notebook [004](004_create_pipeline_project_from_dataset.ipynb) so if you have not run that one yet, it is recommended to do it first to make sure the project exists and is ready for training"
   ]
  },
  {
   "cell_type": "code",
   "execution_count": null,
   "id": "9b08efaa-e4ad-4a87-9d6c-9c7468a9a557",
   "metadata": {},
   "outputs": [],
   "source": [
    "# As usual we will connect to the platform first, using the server details from the .env file\n",
    "\n",
    "from geti_sdk import Geti\n",
    "from geti_sdk.utils import get_server_details_from_env\n",
    "\n",
    "geti_server_configuration = get_server_details_from_env()\n",
    "\n",
    "geti = Geti(server_config=geti_server_configuration)"
   ]
  },
  {
   "cell_type": "markdown",
   "id": "d8920d95-4c69-4641-a6ba-0cdfffc45a96",
   "metadata": {},
   "source": [
    "### Selecting a project for training\n",
    "As before, let's list all projects in the workspace and select one that we want to train"
   ]
  },
  {
   "cell_type": "code",
   "execution_count": null,
   "id": "2005dc7b-e319-4875-a6b0-089ec9025739",
   "metadata": {},
   "outputs": [],
   "source": [
    "from geti_sdk.rest_clients import ProjectClient\n",
    "\n",
    "project_client = ProjectClient(session=geti.session, workspace_id=geti.workspace_id)\n",
    "projects = project_client.list_projects()"
   ]
  },
  {
   "cell_type": "markdown",
   "id": "99fc5e24-2b69-41da-9ab7-dfa10a83b543",
   "metadata": {},
   "source": [
    "We will use the `COCO multitask animal demo` that we created in notebook [004](004_create_pipeline_project_from_dataset.ipynb). "
   ]
  },
  {
   "cell_type": "code",
   "execution_count": null,
   "id": "71b3bffd-2c07-48eb-85a2-382fe1d0de2f",
   "metadata": {},
   "outputs": [],
   "source": [
    "PROJECT_NAME = \"COCO multitask animal demo\"\n",
    "\n",
    "project = project_client.get_project(project_name=PROJECT_NAME)"
   ]
  },
  {
   "cell_type": "markdown",
   "id": "f164cdeb-33cd-4fda-98b4-2702684dc13b",
   "metadata": {},
   "source": [
    "## Preparing to start training\n",
    "\n",
    "#### Setting up the TrainingClient\n",
    "To start and monitor training jobs on the platform, a `TrainingClient` needs to be created for the project:"
   ]
  },
  {
   "cell_type": "code",
   "execution_count": null,
   "id": "93022572-a722-4a36-b5f4-af74d41286c0",
   "metadata": {},
   "outputs": [],
   "source": [
    "from geti_sdk.rest_clients import TrainingClient\n",
    "\n",
    "training_client = TrainingClient(\n",
    "    session=geti.session, workspace_id=geti.workspace_id, project=project\n",
    ")"
   ]
  },
  {
   "cell_type": "markdown",
   "id": "8a551686-7953-48b2-84c2-8ec82c20d5e7",
   "metadata": {},
   "source": [
    "#### Selecting a task to train\n",
    "First thing to do is to select the task that we want to train. Let's go with the `detection` task in our project, which is the first trainable task in the pipeline. We will print a summary of the task to make sure we pick the right one"
   ]
  },
  {
   "cell_type": "code",
   "execution_count": null,
   "id": "8102e029-f6de-4788-ac0f-5e043b969beb",
   "metadata": {},
   "outputs": [],
   "source": [
    "task = project.get_trainable_tasks()[0]\n",
    "print(task.summary)"
   ]
  },
  {
   "cell_type": "markdown",
   "id": "9e135470-05f4-42fa-a1e5-8bb830eb01c8",
   "metadata": {},
   "source": [
    "#### Listing the available algorithms\n",
    "Now, let's list the available algorithms for this task. The training_client can be used for this:"
   ]
  },
  {
   "cell_type": "code",
   "execution_count": null,
   "id": "42e93702-5f12-44a7-b2d4-0a0c152b3b21",
   "metadata": {},
   "outputs": [],
   "source": [
    "available_algorithms = training_client.get_algorithms_for_task(task=task)\n",
    "print(available_algorithms.summary)"
   ]
  },
  {
   "cell_type": "markdown",
   "id": "71c6a907-eabe-4458-a667-4a78428a2213",
   "metadata": {},
   "source": [
    "Let's go with the algorithm that Geti uses by default for object detection. It is the `ATSS` algorithm, which is a larger and more accurate model than the `SSD` one. Because of its size it is also slower, but let's say we care most about accuracy for now.\n",
    "\n",
    "We can get the default algorithms from the list of available algorithms. The cell below shows how it is done, and retrieves the default Detection algorithm."
   ]
  },
  {
   "cell_type": "code",
   "execution_count": null,
   "id": "ff07e8b9-6a15-49d3-8908-d3a4f8ba81e5",
   "metadata": {},
   "outputs": [],
   "source": [
    "algorithm = available_algorithms.get_default_for_task_type(task.type)\n",
    "\n",
    "print(f\"Default algorithm for `{task.type}` task: `{algorithm.name}`.\\n\")\n",
    "print(algorithm.overview)"
   ]
  },
  {
   "cell_type": "markdown",
   "id": "6302ddac-d9c7-4716-8ff4-51f574d0d083",
   "metadata": {},
   "source": [
    "## Checking platform status\n",
    "Before we start a new training round it may be a good idea to check the platform status, to make sure the project is not running another job already. In that case submitting a new job might not start training as expected, depending on what job is already running. The `training_client` can also be used to check the project status:"
   ]
  },
  {
   "cell_type": "code",
   "execution_count": null,
   "id": "9f8281ba-b513-4832-990d-2038a47fc33c",
   "metadata": {},
   "outputs": [],
   "source": [
    "status = training_client.get_status()\n",
    "print(status.summary)"
   ]
  },
  {
   "cell_type": "markdown",
   "id": "f8d7e983-e11e-4e72-8cba-efa764e7c520",
   "metadata": {},
   "source": [
    "## Starting the training\n",
    "At this point we can start the training, using the `training_client.train_task()` method. The method takes additional optional parameters such as `train_from_scratch` and `enable_pot_optimization`, but we will leave these to their default values (`False`) for now. The `train_task()` method will return a `Job` object, that we can use to monitor the training progress."
   ]
  },
  {
   "cell_type": "code",
   "execution_count": null,
   "id": "e96169a7-67dd-4734-8372-1dd5c88f4a88",
   "metadata": {},
   "outputs": [],
   "source": [
    "job = training_client.train_task(\n",
    "    algorithm=algorithm,\n",
    "    task=task,\n",
    ")"
   ]
  },
  {
   "cell_type": "markdown",
   "id": "f6a87a09-a194-40cc-9d71-3d2620731a34",
   "metadata": {},
   "source": [
    "### Monitoring the training process\n",
    "Using the training_client and the training `job` we just started, we can monitor the training progress on the platform. The `training_client.monitor_job()` method can monitor the status of a job, and will update the job status every 15 seconds. Program execution is halted untill the job has completed (either successfully or cancelled/failed).\n",
    "\n",
    "> **NOTE**: Because training the task will take quite a bit of time, you may want to interrupt the monitoring at some point. This can be done by selecting the cell in which the monitoring is running and pressing the 'Interrupt the kernel' (solid square) button at the top of the page, or by navigating to the 'Kernel' menu in the top menu bar and selecting 'Interrupt the kernel' there. This will not cancel the job on the platform, it will just abort the job progress monitoring in the notebook."
   ]
  },
  {
   "cell_type": "code",
   "execution_count": null,
   "id": "1964a851-a2ef-4343-9506-fdca0f0ffbfb",
   "metadata": {},
   "outputs": [],
   "source": [
    "training_client.monitor_job(job);"
   ]
  },
  {
   "cell_type": "markdown",
   "id": "e140a093-827c-4869-966b-77b388e651c4",
   "metadata": {},
   "source": [
    "## Getting the model resulting from the training job\n",
    "Once the training has finished successfully, we can set up a `ModelClient` for the project and use it to get the model that was trained in this particular job"
   ]
  },
  {
   "cell_type": "code",
   "execution_count": null,
   "id": "8544c368-27a3-4c3f-b319-d6d298eed9c4",
   "metadata": {},
   "outputs": [],
   "source": [
    "from geti_sdk.rest_clients import ModelClient\n",
    "\n",
    "model_client = ModelClient(\n",
    "    session=geti.session, workspace_id=geti.workspace_id, project=project\n",
    ")"
   ]
  },
  {
   "cell_type": "markdown",
   "id": "897953c8-ab50-4dae-a49c-40871b0ae6be",
   "metadata": {},
   "source": [
    "To get the model information, simply pass the job to the `model_client.get_model_for_job()` method. Note that this will not download the actual model weights itself: Instead, it will return a `Model` object that holds all metadata for the model, such as the score it achieved on the test dataset, its creation date, the algorithm that it implements, etc. \n",
    "\n",
    "Trying to request the model while the training job is still running will result in a ValueError. In that case, please be patient and try again when the job is completed."
   ]
  },
  {
   "cell_type": "code",
   "execution_count": null,
   "id": "96194256-990b-4b48-b1b1-d8ca2a679945",
   "metadata": {},
   "outputs": [],
   "source": [
    "model = model_client.get_model_for_job(job)\n",
    "\n",
    "if model is not None:\n",
    "    print(model.overview)\n",
    "else:\n",
    "    print(\n",
    "        f\"Job '{job.name}' completed with status '{job.status.state}: \"\n",
    "        f\"{job.status.message}', but did not result in a trained model. Most likely \"\n",
    "        f\"the model training has failed, you could try restarting the training to \"\n",
    "        f\"see if the problem persists.\"\n",
    "    )"
   ]
  },
  {
   "cell_type": "code",
   "execution_count": null,
   "id": "fbb7f4c7-6e52-4e91-81be-20167e00fbb2",
   "metadata": {},
   "outputs": [],
   "source": []
  }
 ],
 "metadata": {
  "kernelspec": {
   "display_name": "Python 3 (ipykernel)",
   "language": "python",
   "name": "python3"
  },
  "language_info": {
   "codemirror_mode": {
    "name": "ipython",
    "version": 3
   },
   "file_extension": ".py",
   "mimetype": "text/x-python",
   "name": "python",
   "nbconvert_exporter": "python",
   "pygments_lexer": "ipython3",
   "version": "3.10.12"
  }
 },
 "nbformat": 4,
 "nbformat_minor": 5
}
