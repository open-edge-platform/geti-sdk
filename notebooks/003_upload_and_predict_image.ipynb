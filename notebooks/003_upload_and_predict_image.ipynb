{
 "cells": [
  {
   "cell_type": "markdown",
   "id": "f97df60a-01e6-4aaa-8013-c7e981485699",
   "metadata": {},
   "source": [
    "# Uploading an image to the platform, and requesting a prediction for it\n",
    "In this notebook, we will upload a single numpy image to a specific project on the platform, and make a request to get a prediction for it"
   ]
  },
  {
   "cell_type": "code",
   "execution_count": null,
   "id": "bc86f115-d96c-463c-962d-6b50d88b330d",
   "metadata": {
    "pycharm": {
     "name": "#%%\n"
    }
   },
   "outputs": [],
   "source": [
    "# As usual we will connect to the platform first, using the server details from the .env file\n",
    "\n",
    "from geti_sdk import Geti\n",
    "from geti_sdk.utils import get_server_details_from_env\n",
    "\n",
    "geti_server_configuration = get_server_details_from_env()\n",
    "\n",
    "geti = Geti(server_config=geti_server_configuration)"
   ]
  },
  {
   "cell_type": "markdown",
   "id": "645e6870-e1d2-487f-822c-fcb2a65107fa",
   "metadata": {},
   "source": [
    "### Setting up the project client, image client and prediction client\n",
    "In this notebook, we will need three client objects: A ProjectClient to retrieve the project we want to upload to, an ImageClient to be able to upload the image and a PredictionClient to request and receive the prediction for the image. We first set up the ProjectClient, since we will need to get the project we are interested in before we can initialize the other two clients."
   ]
  },
  {
   "cell_type": "code",
   "execution_count": null,
   "id": "63108a6c-c99b-4be9-b4fc-eca5556756c6",
   "metadata": {},
   "outputs": [],
   "source": [
    "from geti_sdk.rest_clients import ImageClient, PredictionClient, ProjectClient\n",
    "\n",
    "project_client = ProjectClient(session=geti.session, workspace_id=geti.workspace_id)"
   ]
  },
  {
   "cell_type": "markdown",
   "id": "70afdbf0-7b77-4a0a-bb83-86298e8c13e3",
   "metadata": {},
   "source": [
    "Now that the project client is set up, we need to specify the project we would like to upload to. We will use the `COCO animal detection demo` that we created in notebook [002 create project from dataset](./002_create_project_from_dataset.ipynb)."
   ]
  },
  {
   "cell_type": "code",
   "execution_count": null,
   "id": "5b2dbd9b-29b9-4000-8c55-cdb5cfd86463",
   "metadata": {},
   "outputs": [],
   "source": [
    "PROJECT_NAME = \"COCO animal detection demo\""
   ]
  },
  {
   "cell_type": "markdown",
   "id": "0f2433e9-1c6c-486b-a2bb-377fe1c0806f",
   "metadata": {},
   "source": [
    "With the project name specified, we can retrieve the project details from the project client and use the returned `Project` object to set up an `image_client` and `prediction_client` for this project."
   ]
  },
  {
   "cell_type": "code",
   "execution_count": null,
   "id": "059ff478-a5da-4363-a281-3ef5ad265151",
   "metadata": {},
   "outputs": [],
   "source": [
    "project = project_client.get_project_by_name(PROJECT_NAME)\n",
    "image_client = ImageClient(\n",
    "    session=geti.session, workspace_id=geti.workspace_id, project=project\n",
    ")\n",
    "prediction_client = PredictionClient(\n",
    "    session=geti.session, workspace_id=geti.workspace_id, project=project\n",
    ")"
   ]
  },
  {
   "cell_type": "markdown",
   "id": "e900e2d8-c229-4b10-b80c-e1f2ed1b08e7",
   "metadata": {},
   "source": [
    "## Uploading an image\n",
    "The SDK contains an example image that we can grab and upload to the project. The path to the image is in the `EXAMPLE_IMAGE_PATH` constant, from the `geti_sdk.demos` module. We can upload the image directly from file using the `image_client.upload_image()` method. Before uploading, we can get a list of all images in the project, so that we can verify that the image was uploaded successfully"
   ]
  },
  {
   "cell_type": "code",
   "execution_count": null,
   "id": "2465640a-50ca-46cf-92bb-75dc29c65ab2",
   "metadata": {},
   "outputs": [],
   "source": [
    "images = image_client.get_all_images()\n",
    "print(f\"Project '{project.name}' contains {len(images)} images.\")"
   ]
  },
  {
   "cell_type": "markdown",
   "id": "1ad7124b-cfe8-43df-91d3-aa50617bdca0",
   "metadata": {},
   "source": [
    "Now, we will upload the example image from the SDK. Of course, you can replace the `EXAMPLE_IMAGE_PATH` with a path to one of your own images as well."
   ]
  },
  {
   "cell_type": "code",
   "execution_count": null,
   "id": "5113c81a-5e5f-4109-b781-b057bb7e674d",
   "metadata": {},
   "outputs": [],
   "source": [
    "from geti_sdk.demos import EXAMPLE_IMAGE_PATH\n",
    "\n",
    "image = image_client.upload_image(image=EXAMPLE_IMAGE_PATH)"
   ]
  },
  {
   "cell_type": "markdown",
   "id": "613b7a3a-c269-476f-a41e-b1cbdc992d0b",
   "metadata": {},
   "source": [
    "Let's fetch the list of images again and see if it has changed"
   ]
  },
  {
   "cell_type": "code",
   "execution_count": null,
   "id": "a8ff33cf-f693-4c55-95bb-215e5065f99f",
   "metadata": {},
   "outputs": [],
   "source": [
    "images = image_client.get_all_images()\n",
    "print(f\"Project '{project.name}' contains {len(images)} images.\")"
   ]
  },
  {
   "cell_type": "markdown",
   "id": "9c83f2bc-b864-4eb2-aa0d-c5ae6aa2861e",
   "metadata": {},
   "source": [
    "Looks like the image has been added to the project, great! Let's use the prediction client to get a prediction for it\n",
    "\n",
    "## Getting a prediction for the image\n",
    "We will now try to request the prediction for the image. However, it is possible that the system is not able to return a prediction: This will happen when not all tasks in the project have a trained model to generate predictions from. In this case, the `prediction_client.get_image_prediction()` method will raise a ValueError. If a model has been trained for all trainable tasks in the project, the prediction client will return a `Prediction` object\n",
    "\n",
    "> **NOTE**: Calling `prediction_client.get_image_prediction` for the first time may take a bit of time (several tens of seconds), because the system may have to start up its inference service. It could even cause the call to timeout, in that case you can just re-run the cell to try requesting the prediction again. Once the inference service is up and running, getting a prediction should be quick."
   ]
  },
  {
   "cell_type": "code",
   "execution_count": null,
   "id": "1b9fc8a2-8020-40ed-927c-ea124d698190",
   "metadata": {},
   "outputs": [],
   "source": [
    "from geti_sdk.demos import ensure_trained_example_project\n",
    "\n",
    "# First, make sure that the project is trained and ready to predict\n",
    "ensure_trained_example_project(geti=geti, project_name=project.name)\n",
    "\n",
    "# Then, request the prediction\n",
    "prediction = prediction_client.get_image_prediction(image)"
   ]
  },
  {
   "cell_type": "markdown",
   "id": "5e8920a5-f7f8-489f-bae5-1e225b95c5de",
   "metadata": {},
   "source": [
    "## Visualizing the prediction\n",
    "If the prediction succeeded, we can now have a closer look at the `prediction` object that was returned by the prediction client. We can either look at an overview of the data directly using `prediction.overview`, or we can visualize the prediction on the image using a helper function from the package. Both methods are shown in the cells below."
   ]
  },
  {
   "cell_type": "code",
   "execution_count": null,
   "id": "3ff32064-a90a-4de7-9bd7-4bc8f1377e6b",
   "metadata": {},
   "outputs": [],
   "source": [
    "print(prediction.overview)"
   ]
  },
  {
   "cell_type": "code",
   "execution_count": null,
   "id": "1affebae-88b4-46ac-97c5-e8373a880d74",
   "metadata": {},
   "outputs": [],
   "source": [
    "import cv2\n",
    "\n",
    "from geti_sdk import Visualizer\n",
    "\n",
    "# To visualise the image, we have to retrieve the pixel data from the platform using the `image.get_data` method. The actual pixel data is\n",
    "# downloaded and cached only on the first call to this method\n",
    "image.get_data(geti.session)\n",
    "numpy_image = image.numpy\n",
    "\n",
    "visualizer = Visualizer()\n",
    "image_rgb = cv2.cvtColor(numpy_image, cv2.COLOR_BGR2RGB)\n",
    "result = visualizer.draw(image_rgb, prediction)\n",
    "visualizer.show_in_notebook(result)"
   ]
  },
  {
   "cell_type": "markdown",
   "id": "9ba47c29-20d6-49bb-9378-a79dcf68fcb7",
   "metadata": {},
   "source": [
    "## Uploading an image and getting a prediction -- The quick method\n",
    "Because uploading and predicting an image is a pretty common operation, the `Geti` class provides a convenience method to do it in one go, without having to set up the ProjectClient, ImageClient and PredictionClient. Basically, this means you could do all of the above in one line of code! "
   ]
  },
  {
   "cell_type": "code",
   "execution_count": null,
   "id": "1bb56cd8-35db-45f8-8b2f-64aa36caff1e",
   "metadata": {},
   "outputs": [],
   "source": [
    "quick_image, quick_prediction = geti.upload_and_predict_image(\n",
    "    project_name=PROJECT_NAME,\n",
    "    image=EXAMPLE_IMAGE_PATH,\n",
    "    visualise_output=False,\n",
    "    delete_after_prediction=False,\n",
    ")\n",
    "quick_image_rgb = cv2.cvtColor(quick_image.numpy, cv2.COLOR_BGR2RGB)\n",
    "quick_result = visualizer.draw(quick_image_rgb, quick_prediction)\n",
    "visualizer.show_in_notebook(quick_result)"
   ]
  }
 ],
 "metadata": {
  "kernelspec": {
   "display_name": "Python 3 (ipykernel)",
   "language": "python",
   "name": "python3"
  },
  "language_info": {
   "codemirror_mode": {
    "name": "ipython",
    "version": 3
   },
   "file_extension": ".py",
   "mimetype": "text/x-python",
   "name": "python",
   "nbconvert_exporter": "python",
   "pygments_lexer": "ipython3",
   "version": "3.10.12"
  }
 },
 "nbformat": 4,
 "nbformat_minor": 5
}
