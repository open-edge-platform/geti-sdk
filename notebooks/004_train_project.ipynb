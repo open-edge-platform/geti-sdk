{
 "cells": [
  {
   "cell_type": "markdown",
   "id": "cba1faac-8dca-4759-90cc-c54a70e87b7a",
   "metadata": {},
   "source": [
    "# Training a model for a task\n",
    "\n",
    "This notebook shows how to train a model for a task in the project. Model training is a slow, computationally heavy process which runs in background (job), so you can continue to interact with the platform, e.g. annotating more images, while the training job is still in progress. The notebook also shows how to monitor the progress of the job, and how to train with a different configuration."
   ]
  },
  {
   "cell_type": "markdown",
   "id": "c1334c75-a950-4796-9798-9538713939a0",
   "metadata": {},
   "source": [
    "## Initial setup"
   ]
  },
  {
   "cell_type": "markdown",
   "id": "64efefd5-edc2-4a22-9c0b-110447191e96",
   "metadata": {},
   "source": [
    "### Connect to the platform\n",
    "\n",
    "First, set up the connection to the server. This is done by instantiating a Geti object, with the hostname (or ip address) and authentication details for the server. As in notebook [001 create_project](001_create_project.ipynb), the server details are stored in the `.env` file and are loaded in the cell below. For details on how to create the `.env` file, please see the [readme](README.md)."
   ]
  },
  {
   "cell_type": "code",
   "id": "9b08efaa-e4ad-4a87-9d6c-9c7468a9a557",
   "metadata": {},
   "source": [
    "from geti_sdk.utils import get_server_details_from_env\n",
    "from geti_sdk import Geti\n",
    "\n",
    "geti_server_configuration = get_server_details_from_env()\n",
    "geti = Geti(server_config=geti_server_configuration)"
   ],
   "outputs": [],
   "execution_count": null
  },
  {
   "cell_type": "markdown",
   "id": "d8920d95-4c69-4641-a6ba-0cdfffc45a96",
   "metadata": {},
   "source": [
    "### Initialize a project\n",
    "\n",
    "This example is based on a toy project `Cats and Dogs` that contains various annotated images of cats and dogs. If you want to use a different project, skip to the next section."
   ]
  },
  {
   "cell_type": "code",
   "id": "ee4d1044-570f-4373-9877-eb59582bb820",
   "metadata": {},
   "source": [
    "import os\n",
    "from geti_sdk.demos.data_helpers.download_helpers import download_file\n",
    "from geti_sdk.import_export import GetiIE\n",
    "from geti_sdk.rest_clients import ProjectClient\n",
    "\n",
    "dataset_archive_url = \"https://storage.geti.intel.com/test-data/geti-sdk/datasets/cats-dogs-yolo-small.zip\"\n",
    "dataset_archive_folder = \"/tmp\"\n",
    "dataset_archive = os.path.join(\n",
    "    dataset_archive_folder, os.path.basename(dataset_archive_url)\n",
    ")\n",
    "\n",
    "if not os.path.exists(dataset_archive):\n",
    "    download_file(url=dataset_archive_url, target_folder=dataset_archive_folder)\n",
    "\n",
    "project_client = ProjectClient(session=geti.session, workspace_id=geti.workspace_id)\n",
    "geti_ie = GetiIE(\n",
    "    session=geti.session, workspace_id=geti.workspace_id, project_client=project_client\n",
    ")\n",
    "\n",
    "project = geti_ie.import_dataset_as_new_project(\n",
    "    filepath=dataset_archive,\n",
    "    project_name=\"Cats and Dogs\",\n",
    "    project_type=\"detection\",\n",
    ")"
   ],
   "outputs": [],
   "execution_count": null
  },
  {
   "cell_type": "markdown",
   "id": "f164cdeb-33cd-4fda-98b4-2702684dc13b",
   "metadata": {},
   "source": [
    "## Training preparation\n",
    "\n",
    "#### Select the project to train"
   ]
  },
  {
   "cell_type": "code",
   "id": "2005dc7b-e319-4875-a6b0-089ec9025739",
   "metadata": {},
   "source": [
    "from geti_sdk.rest_clients import ProjectClient\n",
    "\n",
    "# If you want to use another existing project, specify the name here\n",
    "PROJECT_NAME = \"Cats and Dogs\"\n",
    "\n",
    "project_client = ProjectClient(session=geti.session, workspace_id=geti.workspace_id)\n",
    "project = project_client.get_project(project_name=PROJECT_NAME)"
   ],
   "outputs": [],
   "execution_count": null
  },
  {
   "cell_type": "markdown",
   "id": "fddf08a94cd69912",
   "metadata": {},
   "source": [
    "#### Setup the TrainingClient\n",
    "To start and monitor training jobs, a `TrainingClient` needs to be created for the project:"
   ]
  },
  {
   "cell_type": "code",
   "id": "93022572-a722-4a36-b5f4-af74d41286c0",
   "metadata": {},
   "source": [
    "from geti_sdk.rest_clients import TrainingClient\n",
    "\n",
    "training_client = TrainingClient(\n",
    "    session=geti.session, workspace_id=geti.workspace_id, project=project\n",
    ")"
   ],
   "outputs": [],
   "execution_count": null
  },
  {
   "cell_type": "markdown",
   "id": "8a551686-7953-48b2-84c2-8ec82c20d5e7",
   "metadata": {},
   "source": [
    "#### Select a task to train\n",
    "First thing to do is to select the task that we want to train. Let's go with the `detection` task in our project, which is the first trainable task in the pipeline. We will print a summary of the task to make sure we pick the right one"
   ]
  },
  {
   "cell_type": "code",
   "id": "8102e029-f6de-4788-ac0f-5e043b969beb",
   "metadata": {},
   "source": [
    "task = project.get_trainable_tasks()[0]\n",
    "print(task.summary)"
   ],
   "outputs": [],
   "execution_count": null
  },
  {
   "cell_type": "markdown",
   "id": "9e135470-05f4-42fa-a1e5-8bb830eb01c8",
   "metadata": {},
   "source": [
    "#### List the available algorithms\n",
    "Now, let's list the available algorithms for this task. The training_client can be used for this:"
   ]
  },
  {
   "cell_type": "code",
   "id": "42e93702-5f12-44a7-b2d4-0a0c152b3b21",
   "metadata": {},
   "source": [
    "available_algorithms = training_client.get_algorithms_for_task(task=task)\n",
    "print(available_algorithms.summary)"
   ],
   "outputs": [],
   "execution_count": null
  },
  {
   "cell_type": "markdown",
   "id": "71c6a907-eabe-4458-a667-4a78428a2213",
   "metadata": {},
   "source": [
    "Let's go with the algorithm that Geti uses by default for object detection. It is the `ATSS` algorithm, which is a larger and more accurate model than the `SSD` one. Because of its size it is also slower, but let's say we care most about accuracy for now.\n",
    "\n",
    "We can get the default algorithms from the list of available algorithms. The cell below shows how it is done, and retrieves the default Detection algorithm."
   ]
  },
  {
   "cell_type": "code",
   "id": "ff07e8b9-6a15-49d3-8908-d3a4f8ba81e5",
   "metadata": {},
   "source": [
    "algorithm = available_algorithms.get_default_for_task_type(task.type)\n",
    "\n",
    "print(f\"Default algorithm for `{task.type}` task: `{algorithm.name}`.\\n\")\n",
    "print(algorithm.description)"
   ],
   "outputs": [],
   "execution_count": null
  },
  {
   "cell_type": "markdown",
   "id": "6302ddac-d9c7-4716-8ff4-51f574d0d083",
   "metadata": {},
   "source": [
    "#### Check the platform status\n",
    "Before we start a new training round it may be a good idea to check the platform status, to make sure the project is not running another job already. In that case submitting a new job might not start training as expected, depending on what job is already running. The `training_client` can also be used to check the project status:"
   ]
  },
  {
   "cell_type": "code",
   "id": "9f8281ba-b513-4832-990d-2038a47fc33c",
   "metadata": {},
   "source": [
    "status = training_client.get_status()\n",
    "print(status.summary)"
   ],
   "outputs": [],
   "execution_count": null
  },
  {
   "cell_type": "markdown",
   "id": "f8d7e983-e11e-4e72-8cba-efa764e7c520",
   "metadata": {},
   "source": [
    "## Training\n",
    "\n",
    "#### Start training\n",
    "\n",
    "At this point we can start the training, using the `training_client.train_task()` method. The method takes additional optional parameters such as `train_from_scratch` and `enable_pot_optimization`, but we will leave these to their default values (`False`) for now. The `train_task()` method will return a `Job` object, that we can use to monitor the training progress."
   ]
  },
  {
   "cell_type": "code",
   "id": "e96169a7-67dd-4734-8372-1dd5c88f4a88",
   "metadata": {},
   "source": [
    "job = training_client.train_task(\n",
    "    algorithm=algorithm,\n",
    "    task=task,\n",
    ")"
   ],
   "outputs": [],
   "execution_count": null
  },
  {
   "cell_type": "markdown",
   "id": "f6a87a09-a194-40cc-9d71-3d2620731a34",
   "metadata": {},
   "source": [
    "#### Monitor the training process\n",
    "Using the training_client and the training `job` we just started, we can monitor the training progress on the platform. The `training_client.monitor_job()` method can monitor the status of a job, and will update the job status every 15 seconds. Program execution is halted untill the job has completed (either successfully or cancelled/failed).\n",
    "\n",
    "> **NOTE**: Because training the task will take quite a bit of time, you may want to interrupt the monitoring at some point. This can be done by selecting the cell in which the monitoring is running and pressing the 'Interrupt the kernel' (solid square) button at the top of the page, or by navigating to the 'Kernel' menu in the top menu bar and selecting 'Interrupt the kernel' there. This will not cancel the job on the platform, it will just abort the job progress monitoring in the notebook."
   ]
  },
  {
   "cell_type": "code",
   "id": "1964a851-a2ef-4343-9506-fdca0f0ffbfb",
   "metadata": {},
   "source": [
    "training_client.monitor_job(job);"
   ],
   "outputs": [],
   "execution_count": null
  },
  {
   "cell_type": "markdown",
   "id": "e140a093-827c-4869-966b-77b388e651c4",
   "metadata": {},
   "source": [
    "## Trained model management\n",
    "Once the training has finished successfully, we can set up a `ModelClient` for the project and use it to get the model that was trained in this particular job"
   ]
  },
  {
   "cell_type": "code",
   "id": "8544c368-27a3-4c3f-b319-d6d298eed9c4",
   "metadata": {},
   "source": [
    "from geti_sdk.rest_clients import ModelClient\n",
    "\n",
    "model_client = ModelClient(\n",
    "    session=geti.session, workspace_id=geti.workspace_id, project=project\n",
    ")"
   ],
   "outputs": [],
   "execution_count": null
  },
  {
   "cell_type": "markdown",
   "id": "897953c8-ab50-4dae-a49c-40871b0ae6be",
   "metadata": {},
   "source": [
    "To get the model information, simply pass the job to the `model_client.get_model_for_job()` method. Note that this will not download the actual model weights itself: Instead, it will return a `Model` object that holds all metadata for the model, such as the score it achieved on the test dataset, its creation date, the algorithm that it implements, etc. \n",
    "\n",
    "Trying to request the model while the training job is still running will result in a ValueError. In that case, please be patient and try again when the job is completed."
   ]
  },
  {
   "cell_type": "code",
   "id": "96194256-990b-4b48-b1b1-d8ca2a679945",
   "metadata": {},
   "source": [
    "model = model_client.get_model_for_job(job)\n",
    "\n",
    "if model is not None:\n",
    "    print(model.overview)\n",
    "else:\n",
    "    print(\n",
    "        f\"Job '{job.name}' completed with status '{job.status.state}: \"\n",
    "        f\"{job.status.message}', but did not result in a trained model. Most likely \"\n",
    "        f\"the model training has failed, you could try restarting the training to \"\n",
    "        f\"see if the problem persists.\"\n",
    "    )"
   ],
   "outputs": [],
   "execution_count": null
  },
  {
   "cell_type": "code",
   "id": "fbb7f4c7-6e52-4e91-81be-20167e00fbb2",
   "metadata": {},
   "source": [],
   "outputs": [],
   "execution_count": null
  }
 ],
 "metadata": {
  "kernelspec": {
   "display_name": "Python 3 (ipykernel)",
   "language": "python",
   "name": "python3"
  },
  "language_info": {
   "codemirror_mode": {
    "name": "ipython",
    "version": 3
   },
   "file_extension": ".py",
   "mimetype": "text/x-python",
   "name": "python",
   "nbconvert_exporter": "python",
   "pygments_lexer": "ipython3",
   "version": "3.10.0"
  }
 },
 "nbformat": 4,
 "nbformat_minor": 5
}
