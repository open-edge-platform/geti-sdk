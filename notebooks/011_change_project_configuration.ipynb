{
 "cells": [
  {
   "cell_type": "markdown",
   "id": "eb6c85c8-81c5-4cfc-98ac-297e2524c6aa",
   "metadata": {},
   "source": [
    "# Change the configuration of a project\n",
    "\n",
    "This notebook shows how to view and update the project configuration. By modifying the project settings, you can customize the behavior of Geti or adjust the training settings to achieve better results for your task."
   ]
  },
  {
   "cell_type": "markdown",
   "id": "e8638ceff607f6c4",
   "metadata": {},
   "source": [
    "## Initial setup\n",
    "\n",
    "#### Connect to Geti\n",
    "\n",
    "First, set up the connection to the server. This is done by instantiating a Geti object, with the hostname (or ip address) and authentication details for the server. As in notebook [001 create_project](001_create_project.ipynb), the server details are stored in the `.env` file and are loaded in the cell below. For details on how to create the `.env` file, please see the [readme](README.md)."
   ]
  },
  {
   "cell_type": "code",
   "id": "4ebd0b09-0adb-4197-a3f2-3add32dbe2c9",
   "metadata": {},
   "source": [
    "from geti_sdk import Geti\n",
    "from geti_sdk.rest_clients import ProjectClient\n",
    "from geti_sdk.utils import get_server_details_from_env\n",
    "\n",
    "geti_server_configuration = get_server_details_from_env()\n",
    "\n",
    "geti = Geti(server_config=geti_server_configuration)\n",
    "\n",
    "project_client = ProjectClient(session=geti.session, workspace_id=geti.workspace_id)"
   ],
   "outputs": [],
   "execution_count": null
  },
  {
   "cell_type": "markdown",
   "id": "e04e785e-31b1-4982-abda-22b5e9c3f625",
   "metadata": {},
   "source": [
    "#### Select a project\n",
    "This example is based on the project `Cats and Dogs` created by the notebook [004](004_train_project.ipynb). Feel free to use a different project by changing the `PROJECT_NAME` variable."
   ]
  },
  {
   "cell_type": "code",
   "id": "a3ca66c8-b40e-454d-aaa0-99b937c6e5c1",
   "metadata": {},
   "source": [
    "PROJECT_NAME = \"Cats and Dogs\"\n",
    "\n",
    "project = project_client.get_project(PROJECT_NAME)"
   ],
   "outputs": [],
   "execution_count": null
  },
  {
   "cell_type": "markdown",
   "id": "81bdf9d7-bf20-4323-b827-4e76e50d86c9",
   "metadata": {},
   "source": [
    "## Manage the configuration\n",
    "\n",
    "#### Setup the ConfigurationClient\n",
    "\n",
    "The class `ProjectConfigurationClient` offers convenient methods to retrieve and update the configuration of a project."
   ]
  },
  {
   "cell_type": "code",
   "id": "294b15c7-c8f3-46e0-88f1-9c5b8b94ed0a",
   "metadata": {},
   "source": [
    "from geti_sdk.rest_clients import ProjectConfigurationClient\n",
    "\n",
    "configuration_client = ProjectConfigurationClient(\n",
    "    workspace_id=geti.workspace_id, project=project, session=geti.session\n",
    ")"
   ],
   "outputs": [],
   "execution_count": null
  },
  {
   "cell_type": "markdown",
   "id": "0d5dc16d-99e6-45cb-a560-8b19ad016b16",
   "metadata": {},
   "source": [
    "#### Load the project configuration\n",
    "\n",
    "Use the `get_configuration` method to load the configuration."
   ]
  },
  {
   "cell_type": "code",
   "id": "a983f010-8b0b-4029-9fe3-e40e5cb2241e",
   "metadata": {},
   "source": [
    "project_config = configuration_client.get_configuration()"
   ],
   "outputs": [],
   "execution_count": null
  },
  {
   "cell_type": "markdown",
   "id": "46ae31bb-fea5-4587-ac1e-d301bc43d2fb",
   "metadata": {},
   "source": [
    "After loading the configuration, let's display it as JSON object, for better readability."
   ]
  },
  {
   "cell_type": "code",
   "id": "e4eb6b43-12b8-4f25-b671-753ba58535ed",
   "metadata": {},
   "source": [
    "import json\n",
    "\n",
    "print(json.dumps(project_config.model_dump(), indent=4))"
   ],
   "outputs": [],
   "execution_count": null
  },
  {
   "cell_type": "markdown",
   "id": "2a738d73-2d3e-4d47-a7f5-6e48cff552e4",
   "metadata": {},
   "source": [
    "#### View the configuration for a specific task\n",
    "\n",
    "The configuration object contains one section for each task in the project. To configure the settings for a specific task, use the `get_task_config` method."
   ]
  },
  {
   "cell_type": "code",
   "id": "727bba4c-6bec-4cc6-8739-c32c0ea487f8",
   "metadata": {},
   "source": [
    "# In a task-chain project, you may change the index to select another task\n",
    "task = project.get_trainable_tasks()[0]\n",
    "\n",
    "task_config = project_config.get_task_config(task.id)\n",
    "\n",
    "print(json.dumps(task_config.model_dump(), indent=4))"
   ],
   "outputs": [],
   "execution_count": null
  },
  {
   "cell_type": "markdown",
   "id": "f630d605-74e3-4b53-afdc-220008587f98",
   "metadata": {},
   "source": [
    "### Change the configuration values\n",
    "\n",
    "The configuration can be updated with the method `set_configuration`, after updating the values of the configuration object. For example, you can change the minimum number of annotated images required for triggering auto-training as follows:"
   ]
  },
  {
   "cell_type": "code",
   "id": "faaa9cdf-2e1c-42d6-ac78-3661c8524e17",
   "metadata": {},
   "source": [
    "task_config.auto_training.min_images_per_label = 24\n",
    "\n",
    "configuration_client.set_configuration(project_config)"
   ],
   "outputs": [],
   "execution_count": null
  },
  {
   "cell_type": "markdown",
   "id": "e3ac4d62-fd42-4397-8fc6-ea02e492383c",
   "metadata": {},
   "source": [
    "Now verify that the changes have taken effect by reloading the configuration."
   ]
  },
  {
   "cell_type": "code",
   "id": "7d640806-8778-4eaa-a078-967b20366a2c",
   "metadata": {},
   "source": [
    "project_config = configuration_client.get_configuration()\n",
    "\n",
    "new_value_after_reload = project_config.get_task_config(\n",
    "    task.id\n",
    ").auto_training.min_images_per_label\n",
    "\n",
    "print(new_value_after_reload)"
   ],
   "outputs": [],
   "execution_count": null
  },
  {
   "cell_type": "markdown",
   "id": "393b2d8fa42de7a7",
   "metadata": {},
   "source": [
    "#### Disable auto-training\n",
    "\n",
    "The configuration client also provides a handy method to enable/disable the auto-train functionality. This method is a quicker alternative to the process shown above."
   ]
  },
  {
   "cell_type": "code",
   "id": "3b06b0f34cf48312",
   "metadata": {},
   "source": [
    "# Disable auto-train\n",
    "configuration_client.set_project_auto_train(auto_train=False)\n",
    "\n",
    "# Enable auto-train\n",
    "configuration_client.set_project_auto_train(auto_train=True)"
   ],
   "outputs": [],
   "execution_count": null
  }
 ],
 "metadata": {
  "kernelspec": {
   "display_name": "Python 3 (ipykernel)",
   "language": "python",
   "name": "python3"
  },
  "language_info": {
   "codemirror_mode": {
    "name": "ipython",
    "version": 3
   },
   "file_extension": ".py",
   "mimetype": "text/x-python",
   "name": "python",
   "nbconvert_exporter": "python",
   "pygments_lexer": "ipython3",
   "version": "3.10.0"
  }
 },
 "nbformat": 4,
 "nbformat_minor": 5
}
